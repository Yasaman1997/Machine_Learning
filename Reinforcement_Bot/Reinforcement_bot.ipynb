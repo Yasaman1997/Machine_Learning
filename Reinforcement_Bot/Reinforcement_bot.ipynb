{
 "cells": [
  {
   "cell_type": "code",
   "execution_count": 1,
   "metadata": {},
   "outputs": [
    {
     "name": "stderr",
     "output_type": "stream",
     "text": [
      "Using TensorFlow backend.\n"
     ]
    }
   ],
   "source": [
    "import numpy as np\n",
    "import gym\n",
    "\n",
    "from keras.models import Sequential\n",
    "from keras.layers import Dense, Activation, Flatten\n",
    "from keras.optimizers import Adam\n",
    "\n",
    "from rl.agents.dqn import DQNAgent\n",
    "from rl.policy import EpsGreedyQPolicy\n",
    "from rl.memory import SequentialMemory"
   ]
  },
  {
   "cell_type": "code",
   "execution_count": 2,
   "metadata": {},
   "outputs": [
    {
     "name": "stderr",
     "output_type": "stream",
     "text": [
      "[2017-10-09 10:17:26,571] Making new env: CartPole-v0\n"
     ]
    }
   ],
   "source": [
    "ENV_NAME = 'CartPole-v0'\n",
    "\n",
    "# Get the environment and extract the number of actions available in the Cartpole problem\n",
    "env = gym.make(ENV_NAME)\n",
    "np.random.seed(123)\n",
    "env.seed(123)\n",
    "nb_actions = env.action_space.n"
   ]
  },
  {
   "cell_type": "code",
   "execution_count": 3,
   "metadata": {
    "scrolled": true
   },
   "outputs": [
    {
     "name": "stdout",
     "output_type": "stream",
     "text": [
      "_________________________________________________________________\n",
      "Layer (type)                 Output Shape              Param #   \n",
      "=================================================================\n",
      "flatten_1 (Flatten)          (None, 4)                 0         \n",
      "_________________________________________________________________\n",
      "dense_1 (Dense)              (None, 16)                80        \n",
      "_________________________________________________________________\n",
      "activation_1 (Activation)    (None, 16)                0         \n",
      "_________________________________________________________________\n",
      "dense_2 (Dense)              (None, 2)                 34        \n",
      "_________________________________________________________________\n",
      "activation_2 (Activation)    (None, 2)                 0         \n",
      "=================================================================\n",
      "Total params: 114\n",
      "Trainable params: 114\n",
      "Non-trainable params: 0\n",
      "_________________________________________________________________\n",
      "None\n"
     ]
    }
   ],
   "source": [
    "model = Sequential()\n",
    "model.add(Flatten(input_shape=(1,) + env.observation_space.shape))\n",
    "model.add(Dense(16))\n",
    "model.add(Activation('relu'))\n",
    "model.add(Dense(nb_actions))\n",
    "model.add(Activation('linear'))\n",
    "print(model.summary())\n"
   ]
  },
  {
   "cell_type": "code",
   "execution_count": 4,
   "metadata": {},
   "outputs": [
    {
     "name": "stdout",
     "output_type": "stream",
     "text": [
      "Training for 500 steps ...\n"
     ]
    },
    {
     "name": "stderr",
     "output_type": "stream",
     "text": [
      "/home/yasaman/anaconda3/lib/python3.5/site-packages/keras_rl-0.3.1-py3.5.egg/rl/memory.py:29: UserWarning: Not enough entries to sample without replacement. Consider increasing your warm-up phase to avoid oversampling!\n",
      "  warnings.warn('Not enough entries to sample without replacement. Consider increasing your warm-up phase to avoid oversampling!')\n"
     ]
    },
    {
     "name": "stdout",
     "output_type": "stream",
     "text": [
      "  87/500: episode: 1, duration: 2.954s, episode steps: 87, steps per second: 29, episode reward: 87.000, mean reward: 1.000 [1.000, 1.000], mean action: 0.517 [0.000, 1.000], mean observation: 0.038 [-0.372, 0.677], loss: 0.419982, mean_absolute_error: 0.487422, mean_q: 0.072812\n",
      " 115/500: episode: 2, duration: 0.464s, episode steps: 28, steps per second: 60, episode reward: 28.000, mean reward: 1.000 [1.000, 1.000], mean action: 0.536 [0.000, 1.000], mean observation: 0.150 [-0.347, 0.740], loss: 0.340937, mean_absolute_error: 0.446265, mean_q: 0.228362\n",
      " 160/500: episode: 3, duration: 0.749s, episode steps: 45, steps per second: 60, episode reward: 45.000, mean reward: 1.000 [1.000, 1.000], mean action: 0.511 [0.000, 1.000], mean observation: 0.089 [-0.340, 0.748], loss: 0.306716, mean_absolute_error: 0.467669, mean_q: 0.346947\n",
      " 190/500: episode: 4, duration: 0.494s, episode steps: 30, steps per second: 61, episode reward: 30.000, mean reward: 1.000 [1.000, 1.000], mean action: 0.500 [0.000, 1.000], mean observation: 0.078 [-0.416, 0.797], loss: 0.262174, mean_absolute_error: 0.493083, mean_q: 0.496740\n",
      " 222/500: episode: 5, duration: 0.544s, episode steps: 32, steps per second: 59, episode reward: 32.000, mean reward: 1.000 [1.000, 1.000], mean action: 0.500 [0.000, 1.000], mean observation: 0.067 [-0.356, 0.857], loss: 0.222211, mean_absolute_error: 0.525739, mean_q: 0.643640\n",
      " 254/500: episode: 6, duration: 0.522s, episode steps: 32, steps per second: 61, episode reward: 32.000, mean reward: 1.000 [1.000, 1.000], mean action: 0.500 [0.000, 1.000], mean observation: 0.085 [-0.383, 0.845], loss: 0.199927, mean_absolute_error: 0.590568, mean_q: 0.821680\n",
      " 279/500: episode: 7, duration: 0.419s, episode steps: 25, steps per second: 60, episode reward: 25.000, mean reward: 1.000 [1.000, 1.000], mean action: 0.480 [0.000, 1.000], mean observation: 0.089 [-0.357, 0.956], loss: 0.158739, mean_absolute_error: 0.644724, mean_q: 1.007264\n",
      " 302/500: episode: 8, duration: 0.384s, episode steps: 23, steps per second: 60, episode reward: 23.000, mean reward: 1.000 [1.000, 1.000], mean action: 0.478 [0.000, 1.000], mean observation: 0.091 [-0.403, 0.929], loss: 0.129737, mean_absolute_error: 0.707393, mean_q: 1.179687\n",
      " 322/500: episode: 9, duration: 0.341s, episode steps: 20, steps per second: 59, episode reward: 20.000, mean reward: 1.000 [1.000, 1.000], mean action: 0.500 [0.000, 1.000], mean observation: 0.106 [-0.360, 0.938], loss: 0.117634, mean_absolute_error: 0.772609, mean_q: 1.345310\n",
      " 337/500: episode: 10, duration: 0.235s, episode steps: 15, steps per second: 64, episode reward: 15.000, mean reward: 1.000 [1.000, 1.000], mean action: 0.467 [0.000, 1.000], mean observation: 0.089 [-0.616, 1.243], loss: 0.104787, mean_absolute_error: 0.833551, mean_q: 1.483720\n",
      " 358/500: episode: 11, duration: 0.362s, episode steps: 21, steps per second: 58, episode reward: 21.000, mean reward: 1.000 [1.000, 1.000], mean action: 0.429 [0.000, 1.000], mean observation: 0.079 [-0.633, 1.362], loss: 0.098142, mean_absolute_error: 0.899169, mean_q: 1.645140\n",
      " 375/500: episode: 12, duration: 0.262s, episode steps: 17, steps per second: 65, episode reward: 17.000, mean reward: 1.000 [1.000, 1.000], mean action: 0.471 [0.000, 1.000], mean observation: 0.101 [-0.551, 1.033], loss: 0.086224, mean_absolute_error: 0.956096, mean_q: 1.822439\n",
      " 393/500: episode: 13, duration: 0.305s, episode steps: 18, steps per second: 59, episode reward: 18.000, mean reward: 1.000 [1.000, 1.000], mean action: 0.444 [0.000, 1.000], mean observation: 0.095 [-0.554, 1.082], loss: 0.106271, mean_absolute_error: 1.053603, mean_q: 1.984811\n",
      " 411/500: episode: 14, duration: 0.312s, episode steps: 18, steps per second: 58, episode reward: 18.000, mean reward: 1.000 [1.000, 1.000], mean action: 0.444 [0.000, 1.000], mean observation: 0.094 [-0.584, 1.242], loss: 0.099266, mean_absolute_error: 1.106102, mean_q: 2.111419\n",
      " 425/500: episode: 15, duration: 0.214s, episode steps: 14, steps per second: 66, episode reward: 14.000, mean reward: 1.000 [1.000, 1.000], mean action: 0.429 [0.000, 1.000], mean observation: 0.094 [-0.607, 1.237], loss: 0.102331, mean_absolute_error: 1.168171, mean_q: 2.257906\n",
      " 435/500: episode: 16, duration: 0.167s, episode steps: 10, steps per second: 60, episode reward: 10.000, mean reward: 1.000 [1.000, 1.000], mean action: 0.400 [0.000, 1.000], mean observation: 0.114 [-0.779, 1.352], loss: 0.108165, mean_absolute_error: 1.218727, mean_q: 2.366910\n",
      " 449/500: episode: 17, duration: 0.237s, episode steps: 14, steps per second: 59, episode reward: 14.000, mean reward: 1.000 [1.000, 1.000], mean action: 0.357 [0.000, 1.000], mean observation: 0.087 [-0.959, 1.444], loss: 0.131680, mean_absolute_error: 1.309326, mean_q: 2.484213\n",
      " 463/500: episode: 18, duration: 0.223s, episode steps: 14, steps per second: 63, episode reward: 14.000, mean reward: 1.000 [1.000, 1.000], mean action: 0.357 [0.000, 1.000], mean observation: 0.104 [-0.986, 1.487], loss: 0.134724, mean_absolute_error: 1.361051, mean_q: 2.576830\n",
      " 476/500: episode: 19, duration: 0.224s, episode steps: 13, steps per second: 58, episode reward: 13.000, mean reward: 1.000 [1.000, 1.000], mean action: 0.385 [0.000, 1.000], mean observation: 0.127 [-0.767, 1.433], loss: 0.128703, mean_absolute_error: 1.403671, mean_q: 2.734914\n",
      " 486/500: episode: 20, duration: 0.181s, episode steps: 10, steps per second: 55, episode reward: 10.000, mean reward: 1.000 [1.000, 1.000], mean action: 0.300 [0.000, 1.000], mean observation: 0.127 [-0.977, 1.638], loss: 0.179914, mean_absolute_error: 1.503747, mean_q: 2.863291\n",
      " 497/500: episode: 21, duration: 0.172s, episode steps: 11, steps per second: 64, episode reward: 11.000, mean reward: 1.000 [1.000, 1.000], mean action: 0.364 [0.000, 1.000], mean observation: 0.134 [-0.766, 1.360], loss: 0.122854, mean_absolute_error: 1.511831, mean_q: 2.931323\n",
      "done, took 9.822 seconds\n"
     ]
    },
    {
     "data": {
      "text/plain": [
       "<keras.callbacks.History at 0x7f18327c3710>"
      ]
     },
     "execution_count": 4,
     "metadata": {},
     "output_type": "execute_result"
    }
   ],
   "source": [
    "policy = EpsGreedyQPolicy()\n",
    "memory = SequentialMemory(limit=50000, window_length=1)\n",
    "dqn = DQNAgent(model=model, nb_actions=nb_actions, memory=memory, nb_steps_warmup=10,\n",
    "target_model_update=1e-2, policy=policy)\n",
    "dqn.compile(Adam(lr=1e-3), metrics=['mae'])\n",
    "\n",
    "# Okay, now it's time to learn something! We visualize the training here for show, but this slows down training quite a lot. \n",
    "dqn.fit(env, nb_steps=500, visualize=True, verbose=2)\n"
   ]
  },
  {
   "cell_type": "code",
   "execution_count": 5,
   "metadata": {},
   "outputs": [
    {
     "name": "stdout",
     "output_type": "stream",
     "text": [
      "Testing for 5 episodes ...\n",
      "Episode 1: reward: 9.000, steps: 9\n",
      "Episode 2: reward: 10.000, steps: 10\n",
      "Episode 3: reward: 11.000, steps: 11\n",
      "Episode 4: reward: 9.000, steps: 9\n",
      "Episode 5: reward: 11.000, steps: 11\n"
     ]
    },
    {
     "data": {
      "text/plain": [
       "<keras.callbacks.History at 0x7f1853780128>"
      ]
     },
     "execution_count": 5,
     "metadata": {},
     "output_type": "execute_result"
    }
   ],
   "source": [
    "dqn.test(env, nb_episodes=5, visualize=True)"
   ]
  },
  {
   "cell_type": "code",
   "execution_count": null,
   "metadata": {
    "collapsed": true
   },
   "outputs": [],
   "source": []
  }
 ],
 "metadata": {
  "anaconda-cloud": {},
  "kernelspec": {
   "display_name": "Python [conda env:py27]",
   "language": "python",
   "name": "conda-env-py27-py"
  },
  "language_info": {
   "codemirror_mode": {
    "name": "ipython",
    "version": 2
   },
   "file_extension": ".py",
   "mimetype": "text/x-python",
   "name": "python",
   "nbconvert_exporter": "python",
   "pygments_lexer": "ipython2",
   "version": "2.7.14"
  }
 },
 "nbformat": 4,
 "nbformat_minor": 2
}
